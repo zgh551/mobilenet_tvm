{
 "cells": [
  {
   "cell_type": "code",
   "execution_count": 3,
   "id": "09b1ab3a",
   "metadata": {},
   "outputs": [],
   "source": [
    "import os\n",
    "\n",
    "import numpy as np\n",
    "import tvm\n",
    "from tvm import relay, autotvm\n",
    "import tvm.relay.testing\n",
    "from tvm.autotvm.tuner import XGBTuner, GATuner, RandomTuner, GridSearchTuner\n",
    "from tvm.contrib.utils import tempdir\n",
    "import tvm.contrib.graph_executor as runtime\n",
    "import onnx\n",
    "import glob"
   ]
  },
  {
   "cell_type": "code",
   "execution_count": 4,
   "id": "7717cf11",
   "metadata": {},
   "outputs": [],
   "source": [
    "op9_dla_model = onnx.load('../op9_dla/20210622_320_192_op9_dla.onnx')"
   ]
  },
  {
   "cell_type": "code",
   "execution_count": 5,
   "id": "ae91d41b",
   "metadata": {},
   "outputs": [
    {
     "name": "stdout",
     "output_type": "stream",
     "text": [
      "{'input.1': (1, 3, 320, 192)}\n"
     ]
    }
   ],
   "source": [
    "input_name = \"input.1\"\n",
    "shape_dict = {input_name: (1, 3, 320, 192)}\n",
    "print(shape_dict)"
   ]
  },
  {
   "cell_type": "code",
   "execution_count": 6,
   "id": "21145b17",
   "metadata": {},
   "outputs": [],
   "source": [
    "model, params = relay.frontend.from_onnx(op9_dla_model, shape_dict)"
   ]
  },
  {
   "cell_type": "code",
   "execution_count": 7,
   "id": "fce9ea4f",
   "metadata": {},
   "outputs": [],
   "source": [
    "target      = tvm.target.Target(\"llvm -device=arm_cpu -mtriple=aarch64-linux-gnu -mattr=+neon\")\n",
    "target_host = tvm.target.Target(\"llvm -device=arm_cpu -mtriple=aarch64-linux-gnu -mattr=+neon\")\n",
    "\n",
    "# Also replace this with the device key in your tracker\n",
    "device_key = \"v9h\"\n",
    "\n",
    "# Set this to True if you use android phone\n",
    "use_android = False\n",
    "\n",
    "#### TUNING OPTION ####\n",
    "network = \"op9_cla\"\n",
    "log_file = \"%s.%s.log\" % (device_key, network)\n",
    "dtype = \"float32\""
   ]
  },
  {
   "cell_type": "code",
   "execution_count": 8,
   "id": "5e2c9e90",
   "metadata": {},
   "outputs": [],
   "source": [
    "tuning_option = {\n",
    "    \"log_filename\": log_file,\n",
    "    \"tuner\": \"xgb\",\n",
    "    \"n_trial\": 1500,\n",
    "    \"early_stopping\": 800,\n",
    "    \"measure_option\": autotvm.measure_option(\n",
    "        builder=autotvm.LocalBuilder(build_func=\"ndk\" if use_android else \"default\"),\n",
    "        runner=autotvm.RPCRunner(\n",
    "            device_key,\n",
    "            host=\"192.168.105.70\",\n",
    "            port=9190,\n",
    "            number=5,\n",
    "            timeout=10,\n",
    "        ),\n",
    "    ),\n",
    "}"
   ]
  },
  {
   "cell_type": "code",
   "execution_count": 9,
   "id": "98c003ee",
   "metadata": {},
   "outputs": [],
   "source": [
    "tasks = autotvm.task.extract_from_program(model[\"main\"], target=target, params=params, ops=(relay.op.get(\"nn.conv2d\"),))"
   ]
  },
  {
   "cell_type": "code",
   "execution_count": 11,
   "id": "7b7663da",
   "metadata": {},
   "outputs": [],
   "source": [
    "def tune_tasks(\n",
    "    tasks,\n",
    "    measure_option,\n",
    "    tuner=\"xgb\",\n",
    "    n_trial=1000,\n",
    "    early_stopping=None,\n",
    "    log_filename=\"tuning.log\",\n",
    "    use_transfer_learning=True,\n",
    "):\n",
    "    # create tmp log file\n",
    "    tmp_log_file = log_filename + \".tmp\"\n",
    "    if os.path.exists(tmp_log_file):\n",
    "        os.remove(tmp_log_file)\n",
    "\n",
    "    for i, tsk in enumerate(reversed(tasks)):\n",
    "        prefix = \"[Task %2d/%2d] \" % (i + 1, len(tasks))\n",
    "\n",
    "        # create tuner\n",
    "        if tuner == \"xgb\" or tuner == \"xgb-rank\":\n",
    "            tuner_obj = XGBTuner(tsk, loss_type=\"rank\")\n",
    "        elif tuner == \"xgb_knob\":\n",
    "            tuner_obj = XGBTuner(tsk, loss_type=\"rank\", feature_type=\"knob\")\n",
    "        elif tuner == \"xgb_itervar\":\n",
    "            tuner_obj = XGBTuner(tsk, loss_type=\"rank\", feature_type=\"itervar\")\n",
    "        elif tuner == \"xgb_curve\":\n",
    "            tuner_obj = XGBTuner(tsk, loss_type=\"rank\", feature_type=\"curve\")\n",
    "        elif tuner == \"ga\":\n",
    "            tuner_obj = GATuner(tsk, pop_size=50)\n",
    "        elif tuner == \"random\":\n",
    "            tuner_obj = RandomTuner(tsk)\n",
    "        elif tuner == \"gridsearch\":\n",
    "            tuner_obj = GridSearchTuner(tsk)\n",
    "        else:\n",
    "            raise ValueError(\"Invalid tuner: \" + tuner)\n",
    "\n",
    "        if use_transfer_learning:\n",
    "            if os.path.isfile(tmp_log_file):\n",
    "                tuner_obj.load_history(autotvm.record.load_from_file(tmp_log_file))\n",
    "\n",
    "        # process tuning\n",
    "        tsk_trial = min(n_trial, len(tsk.config_space))\n",
    "        tuner_obj.tune(\n",
    "            n_trial=tsk_trial,\n",
    "            early_stopping=early_stopping,\n",
    "            measure_option=measure_option,\n",
    "            callbacks=[\n",
    "                autotvm.callback.progress_bar(tsk_trial, prefix=prefix),\n",
    "                autotvm.callback.log_to_file(tmp_log_file),\n",
    "            ],\n",
    "        )\n",
    "\n",
    "    # pick best records to a cache file\n",
    "    autotvm.record.pick_best(tmp_log_file, log_filename)\n",
    "    os.remove(tmp_log_file)\n"
   ]
  },
  {
   "cell_type": "code",
   "execution_count": null,
   "id": "c8274fbc",
   "metadata": {},
   "outputs": [
    {
     "name": "stdout",
     "output_type": "stream",
     "text": [
      "Tuning...\n",
      "[Task  1/34]  Current/Best:   15.43/  38.56 GFLOPS | Progress: (63/1008) | 210.43 s"
     ]
    },
    {
     "name": "stderr",
     "output_type": "stream",
     "text": [
      "/home/zgh/.local/share/virtualenvs/ustc-PR_5tIRD/lib/python3.6/site-packages/xgboost/training.py:17: UserWarning: Old style callback is deprecated.  See: https://xgboost.readthedocs.io/en/latest/python/callbacks.html\n",
      "  warnings.warn(f'Old style callback is deprecated.  See: {link}', UserWarning)\n"
     ]
    },
    {
     "name": "stdout",
     "output_type": "stream",
     "text": [
      "[Task  1/34]  Current/Best:    4.02/  41.75 GFLOPS | Progress: (876/1008) | 2931.33 s Done.\n",
      "[Task  2/34]  Current/Best:   12.17/  33.32 GFLOPS | Progress: (315/1500) | 1490.50 s"
     ]
    }
   ],
   "source": [
    "print(\"Tuning...\")\n",
    "tune_tasks(tasks, **tuning_option)"
   ]
  },
  {
   "cell_type": "code",
   "execution_count": null,
   "id": "c56e63bc",
   "metadata": {},
   "outputs": [],
   "source": []
  }
 ],
 "metadata": {
  "kernelspec": {
   "display_name": "Python 3",
   "language": "python",
   "name": "python3"
  },
  "language_info": {
   "codemirror_mode": {
    "name": "ipython",
    "version": 3
   },
   "file_extension": ".py",
   "mimetype": "text/x-python",
   "name": "python",
   "nbconvert_exporter": "python",
   "pygments_lexer": "ipython3",
   "version": "3.6.9"
  }
 },
 "nbformat": 4,
 "nbformat_minor": 5
}

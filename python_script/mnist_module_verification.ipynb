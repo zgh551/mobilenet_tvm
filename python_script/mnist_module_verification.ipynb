{
 "cells": [
  {
   "cell_type": "code",
   "execution_count": 1,
   "id": "38aec71b",
   "metadata": {},
   "outputs": [],
   "source": [
    "import numpy as np"
   ]
  },
  {
   "cell_type": "code",
   "execution_count": 2,
   "id": "25d70bb4",
   "metadata": {},
   "outputs": [],
   "source": [
    "import onnx"
   ]
  },
  {
   "cell_type": "code",
   "execution_count": 3,
   "id": "f8ef6052",
   "metadata": {},
   "outputs": [],
   "source": [
    "import os"
   ]
  },
  {
   "cell_type": "code",
   "execution_count": 4,
   "id": "63ce38e8",
   "metadata": {},
   "outputs": [],
   "source": [
    "import glob"
   ]
  },
  {
   "cell_type": "code",
   "execution_count": 5,
   "id": "bfc27ce5",
   "metadata": {},
   "outputs": [],
   "source": [
    "from onnx import numpy_helper"
   ]
  },
  {
   "cell_type": "code",
   "execution_count": 6,
   "id": "2eb3d954",
   "metadata": {},
   "outputs": [],
   "source": [
    "import tvm\n",
    "from tvm import te\n",
    "import tvm.relay as relay"
   ]
  },
  {
   "cell_type": "code",
   "execution_count": 7,
   "id": "48e1d8f3",
   "metadata": {},
   "outputs": [],
   "source": [
    "mnist_model = onnx.load('../mnist/mnist-8.onnx')"
   ]
  },
  {
   "cell_type": "code",
   "execution_count": 8,
   "id": "885527cd",
   "metadata": {},
   "outputs": [],
   "source": [
    "test_data_dir = '../mnist/test_data_set_2'"
   ]
  },
  {
   "cell_type": "code",
   "execution_count": 9,
   "id": "bacc6029",
   "metadata": {},
   "outputs": [],
   "source": [
    "## Load inputs"
   ]
  },
  {
   "cell_type": "code",
   "execution_count": 10,
   "id": "6cd7c32d",
   "metadata": {},
   "outputs": [],
   "source": [
    "inputs = []"
   ]
  },
  {
   "cell_type": "code",
   "execution_count": 11,
   "id": "bf72723d",
   "metadata": {},
   "outputs": [],
   "source": [
    "inputs_num = len(glob.glob(os.path.join(test_data_dir, 'input_*.pb')))"
   ]
  },
  {
   "cell_type": "code",
   "execution_count": 12,
   "id": "3e54162c",
   "metadata": {},
   "outputs": [],
   "source": [
    "#print(inputs_num)"
   ]
  },
  {
   "cell_type": "code",
   "execution_count": 13,
   "id": "fced792d",
   "metadata": {},
   "outputs": [],
   "source": [
    "for i in range(inputs_num):\n",
    "    input_file = os.path.join(test_data_dir, 'input_{}.pb'.format(i))\n",
    "    tensor = onnx.TensorProto()\n",
    "    with open(input_file, 'rb') as f:\n",
    "        tensor.ParseFromString(f.read())\n",
    "    #inputs.append(numpy_helper.to_array(tensor))\n",
    "    input_array = numpy_helper.to_array(tensor)"
   ]
  },
  {
   "cell_type": "code",
   "execution_count": 14,
   "id": "2403b4f9",
   "metadata": {},
   "outputs": [
    {
     "name": "stdout",
     "output_type": "stream",
     "text": [
      "(1, 1, 28, 28)\n"
     ]
    }
   ],
   "source": [
    "#input_array = np.array(inputs)\n",
    "print(input_array.shape)"
   ]
  },
  {
   "cell_type": "code",
   "execution_count": 15,
   "id": "98dff50a",
   "metadata": {},
   "outputs": [],
   "source": [
    "# Load reference outputs"
   ]
  },
  {
   "cell_type": "code",
   "execution_count": 16,
   "id": "549497d2",
   "metadata": {},
   "outputs": [],
   "source": [
    "ref_outputs = []"
   ]
  },
  {
   "cell_type": "code",
   "execution_count": 17,
   "id": "b4a763f4",
   "metadata": {},
   "outputs": [],
   "source": [
    "ref_outputs_num = len(glob.glob(os.path.join(test_data_dir, 'output_*.pb')))"
   ]
  },
  {
   "cell_type": "code",
   "execution_count": 18,
   "id": "e7d4476e",
   "metadata": {},
   "outputs": [],
   "source": [
    "for i in range(ref_outputs_num):\n",
    "    output_file = os.path.join(test_data_dir, 'output_{}.pb'.format(i))\n",
    "    tensor = onnx.TensorProto()\n",
    "    with open(output_file, 'rb') as f:\n",
    "        tensor.ParseFromString(f.read())\n",
    "    ref_outputs.append(numpy_helper.to_array(tensor))"
   ]
  },
  {
   "cell_type": "code",
   "execution_count": 19,
   "id": "1fb044d7",
   "metadata": {},
   "outputs": [
    {
     "name": "stdout",
     "output_type": "stream",
     "text": [
      "[array([[-2334.0889  , -1113.6254  ,  1076.5801  ,  -860.2391  ,\n",
      "         1588.535   , -1534.347   , -2686.0776  ,   -56.480476,\n",
      "           74.57547 ,  3715.3801  ]], dtype=float32)]\n"
     ]
    }
   ],
   "source": [
    "print(ref_outputs)"
   ]
  },
  {
   "cell_type": "code",
   "execution_count": 20,
   "id": "0fe4103a",
   "metadata": {},
   "outputs": [],
   "source": [
    "# tvm compile"
   ]
  },
  {
   "cell_type": "code",
   "execution_count": 21,
   "id": "033027b1",
   "metadata": {},
   "outputs": [],
   "source": [
    "input_name = \"Input3\""
   ]
  },
  {
   "cell_type": "code",
   "execution_count": 22,
   "id": "e9c6a347",
   "metadata": {},
   "outputs": [
    {
     "name": "stdout",
     "output_type": "stream",
     "text": [
      "{'Input3': (1, 1, 28, 28)}\n"
     ]
    }
   ],
   "source": [
    "shape_dict = {input_name: input_array.shape}\n",
    "print(shape_dict)"
   ]
  },
  {
   "cell_type": "code",
   "execution_count": 23,
   "id": "bac3fbb5",
   "metadata": {},
   "outputs": [],
   "source": [
    "mod, params = relay.frontend.from_onnx(mnist_model, shape_dict)"
   ]
  },
  {
   "cell_type": "code",
   "execution_count": 24,
   "id": "72cb7df3",
   "metadata": {},
   "outputs": [],
   "source": [
    "# optianal"
   ]
  },
  {
   "cell_type": "code",
   "execution_count": 25,
   "id": "29186703",
   "metadata": {},
   "outputs": [],
   "source": [
    "target = \"llvm\""
   ]
  },
  {
   "cell_type": "code",
   "execution_count": 26,
   "id": "0257d118",
   "metadata": {},
   "outputs": [],
   "source": [
    "with tvm.transform.PassContext(opt_level=3):\n",
    "    intrp = relay.build_module.create_executor(\"graph\", mod, tvm.cpu(0), target)"
   ]
  },
  {
   "cell_type": "code",
   "execution_count": 27,
   "id": "fa7d41d6",
   "metadata": {},
   "outputs": [
    {
     "name": "stdout",
     "output_type": "stream",
     "text": [
      "<tvm.relay.build_module.GraphExecutor object at 0x7fb1b8fe26a0>\n"
     ]
    }
   ],
   "source": [
    "print(intrp)"
   ]
  },
  {
   "cell_type": "code",
   "execution_count": 28,
   "id": "b58da85b",
   "metadata": {},
   "outputs": [
    {
     "name": "stderr",
     "output_type": "stream",
     "text": [
      "Cannot find config for target=llvm -keys=cpu -link-params=0, workload=('dense_pack.x86', ('TENSOR', (1, 256), 'float32'), ('TENSOR', (10, 256), 'float32'), None, 'float32'). A fallback configuration is used, which may bring great performance regression.\n",
      "Cannot find config for target=llvm -keys=cpu -link-params=0, workload=('conv2d_NCHWc.x86', ('TENSOR', (1, 8, 18, 18), 'float32'), ('TENSOR', (16, 8, 5, 5), 'float32'), (1, 1), (0, 0, 0, 0), (1, 1), 'NCHW', 'NCHW', 'float32'). A fallback configuration is used, which may bring great performance regression.\n",
      "Cannot find config for target=llvm -keys=cpu -link-params=0, workload=('conv2d_NCHWc.x86', ('TENSOR', (1, 1, 32, 32), 'float32'), ('TENSOR', (8, 1, 5, 5), 'float32'), (1, 1), (0, 0, 0, 0), (1, 1), 'NCHW', 'NCHW', 'float32'). A fallback configuration is used, which may bring great performance regression.\n"
     ]
    }
   ],
   "source": [
    "dtype = \"float32\"\n",
    "tvm_output = intrp.evaluate()(tvm.nd.array(input_array.astype(dtype)), **params).asnumpy()"
   ]
  },
  {
   "cell_type": "code",
   "execution_count": 29,
   "id": "68d4cb2e",
   "metadata": {},
   "outputs": [
    {
     "name": "stdout",
     "output_type": "stream",
     "text": [
      "[[-2334.0884   -1113.6259    1076.5802    -860.23926   1588.5348\n",
      "  -1534.3464   -2686.0781     -56.480286    74.574875  3715.3796  ]]\n"
     ]
    }
   ],
   "source": [
    "print(tvm_output)"
   ]
  },
  {
   "cell_type": "code",
   "execution_count": null,
   "id": "21c07aee",
   "metadata": {},
   "outputs": [],
   "source": []
  }
 ],
 "metadata": {
  "kernelspec": {
   "display_name": "Python 3",
   "language": "python",
   "name": "python3"
  },
  "language_info": {
   "codemirror_mode": {
    "name": "ipython",
    "version": 3
   },
   "file_extension": ".py",
   "mimetype": "text/x-python",
   "name": "python",
   "nbconvert_exporter": "python",
   "pygments_lexer": "ipython3",
   "version": "3.6.9"
  }
 },
 "nbformat": 4,
 "nbformat_minor": 5
}

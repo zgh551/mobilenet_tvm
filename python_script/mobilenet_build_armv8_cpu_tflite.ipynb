{
 "cells": [
  {
   "cell_type": "code",
   "execution_count": 1,
   "id": "b1a61033",
   "metadata": {},
   "outputs": [],
   "source": [
    "import numpy as np\n",
    "import onnx\n",
    "import os\n",
    "import glob\n",
    "from onnx import numpy_helper\n",
    "import tvm\n",
    "from tvm import te\n",
    "import tvm.relay as relay"
   ]
  },
  {
   "cell_type": "code",
   "execution_count": 2,
   "id": "1f1c3840",
   "metadata": {},
   "outputs": [],
   "source": [
    "# module path\n",
    "mobilenet_path = \"../mobilenet/mobilenet_v2_1.0_224.tflite\"\n",
    "tflite_module_buf = open(mobilenet_path, \"rb\").read()"
   ]
  },
  {
   "cell_type": "code",
   "execution_count": 3,
   "id": "37407173",
   "metadata": {},
   "outputs": [
    {
     "name": "stdout",
     "output_type": "stream",
     "text": [
      "{'input': (1, 224, 224, 3)}\n",
      "{'input': 'float32'}\n"
     ]
    }
   ],
   "source": [
    "# load module param and mod\n",
    "try:\n",
    "    import tflite\n",
    "    \n",
    "    mobilenet_model = tflite.Model.GetRootAsModel(tflite_module_buf, 0)\n",
    "except AttributeError:\n",
    "    import tflite.Model\n",
    "    \n",
    "    mobilenet_model = tflite.Model.Model.GetRootAsModel(tflite_module_buf, 0)\n",
    "# mobilenet_model = onnx.load(mobilenet_path)\n",
    "input_name = \"input\"\n",
    "input_shape = (1, 224, 224, 3)\n",
    "input_type = \"float32\"\n",
    "\n",
    "shape_dict = {input_name: input_shape}\n",
    "print(shape_dict)\n",
    "dtype_dict = {input_name: input_type}\n",
    "print(dtype_dict)"
   ]
  },
  {
   "cell_type": "code",
   "execution_count": 4,
   "id": "03f15585",
   "metadata": {},
   "outputs": [],
   "source": [
    "# mod, params = relay.frontend.from_onnx(mobilenet_model, shape=shape_dict, dtype=dtype_dict)\n",
    "mod, params = relay.frontend.from_tflite(mobilenet_model, shape_dict=shape_dict, dtype_dict=dtype_dict)"
   ]
  },
  {
   "cell_type": "code",
   "execution_count": 5,
   "id": "ba858e1c",
   "metadata": {},
   "outputs": [
    {
     "name": "stdout",
     "output_type": "stream",
     "text": [
      "llvm -keys=arm_cpu,cpu -device=arm_cpu -link-params=0 -mattr=+neon -mtriple=aarch64-linux-gnu\n"
     ]
    }
   ],
   "source": [
    "# target = tvm.target.arm_cpu(\"rasp3b\")\n",
    "# target = tvm.target.Target('llvm')\n",
    "target = tvm.target.Target(\"llvm -device=arm_cpu -mtriple=aarch64-linux-gnu -mattr=+neon\")\n",
    "# target = tvm.target.intel_graphics()\n",
    "# target = tvm.target.Target(\"opencl -device=intel_graphics\") -device=mali\n",
    "# target = tvm.target.Target(\"opencl\")\n",
    "print(target)"
   ]
  },
  {
   "cell_type": "code",
   "execution_count": 6,
   "id": "167fefc8",
   "metadata": {},
   "outputs": [
    {
     "name": "stdout",
     "output_type": "stream",
     "text": [
      "llvm -keys=arm_cpu,cpu -device=arm_cpu -link-params=0 -mtriple=aarch64-linux-gnu\n"
     ]
    }
   ],
   "source": [
    "target_host = tvm.target.Target('llvm -device=arm_cpu -mtriple=aarch64-linux-gnu')\n",
    "# target_host = tvm.target.Target('llvm')\n",
    "print(target_host)"
   ]
  },
  {
   "cell_type": "code",
   "execution_count": 7,
   "id": "b6cce22b",
   "metadata": {},
   "outputs": [
    {
     "name": "stderr",
     "output_type": "stream",
     "text": [
      "One or more operators have not been tuned. Please tune your model for better performance. Use DEBUG logging level to see more details.\n"
     ]
    },
    {
     "name": "stdout",
     "output_type": "stream",
     "text": [
      "<tvm.relay.backend.executor_factory.GraphExecutorFactoryModule object at 0x7fc4103c7a58>\n"
     ]
    }
   ],
   "source": [
    "with tvm.transform.PassContext(opt_level=3):   \n",
    "    module_lib = relay.build(mod, target=target, target_host=target_host, params=params, mod_name='mobilenet')\n",
    "print(module_lib)"
   ]
  },
  {
   "cell_type": "code",
   "execution_count": 8,
   "id": "2bdf4f3d",
   "metadata": {},
   "outputs": [],
   "source": [
    "# output lib path\n",
    "lib_path = \"../module/armv8/mobilenet.so\""
   ]
  },
  {
   "cell_type": "code",
   "execution_count": 9,
   "id": "210fdc09",
   "metadata": {},
   "outputs": [],
   "source": [
    "# export params path\n",
    "param_path = \"../module/armv8/mobilenet.params\""
   ]
  },
  {
   "cell_type": "code",
   "execution_count": 10,
   "id": "f9d8fc0e",
   "metadata": {},
   "outputs": [],
   "source": [
    "module_lib.export_library(lib_path, tvm.contrib.cc.cross_compiler(\"aarch64-linux-gnu-g++\"))\n",
    "# cc=\"/usr/bin/aarch64-linux-gnu-g++\"\n",
    "# cc=\"/usr/bin/arm-linux-gnueabihf-g++\n",
    "# tvm.contrib.cc.cross_compiler(\"aarch64-linux-gnu-g++\")"
   ]
  },
  {
   "cell_type": "code",
   "execution_count": 11,
   "id": "3d2f85ca",
   "metadata": {},
   "outputs": [],
   "source": [
    "with open(param_path, 'wb') as fo:\n",
    "    fo.write(relay.save_param_dict(params))"
   ]
  },
  {
   "cell_type": "code",
   "execution_count": null,
   "id": "0ade06ad",
   "metadata": {},
   "outputs": [],
   "source": []
  }
 ],
 "metadata": {
  "kernelspec": {
   "display_name": "Python 3",
   "language": "python",
   "name": "python3"
  },
  "language_info": {
   "codemirror_mode": {
    "name": "ipython",
    "version": 3
   },
   "file_extension": ".py",
   "mimetype": "text/x-python",
   "name": "python",
   "nbconvert_exporter": "python",
   "pygments_lexer": "ipython3",
   "version": "3.6.9"
  }
 },
 "nbformat": 4,
 "nbformat_minor": 5
}

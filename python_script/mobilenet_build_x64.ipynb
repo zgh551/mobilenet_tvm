{
 "cells": [
  {
   "cell_type": "code",
   "execution_count": 1,
   "id": "b1a61033",
   "metadata": {},
   "outputs": [],
   "source": [
    "import numpy as np\n",
    "import onnx\n",
    "import os\n",
    "import glob\n",
    "from onnx import numpy_helper\n",
    "import tvm\n",
    "from tvm import te\n",
    "import tvm.relay as relay"
   ]
  },
  {
   "cell_type": "code",
   "execution_count": 2,
   "id": "1f1c3840",
   "metadata": {},
   "outputs": [],
   "source": [
    "# module path\n",
    "mobilenet_path = \"../mobilenet/mobilenetv2-7.onnx\""
   ]
  },
  {
   "cell_type": "code",
   "execution_count": 4,
   "id": "37407173",
   "metadata": {},
   "outputs": [
    {
     "name": "stdout",
     "output_type": "stream",
     "text": [
      "{'input': (1, 3, 224, 224)}\n",
      "{'input': 'float32'}\n"
     ]
    }
   ],
   "source": [
    "# load module param and mod\n",
    "mobilenet_model = onnx.load(mobilenet_path)\n",
    "input_name = \"input\"\n",
    "input_shape = (1, 3, 224, 224)\n",
    "input_type = \"float32\"\n",
    "\n",
    "shape_dict = {input_name: input_shape}\n",
    "print(shape_dict)\n",
    "dtype_dict = {input_name: input_type}\n",
    "print(dtype_dict)"
   ]
  },
  {
   "cell_type": "code",
   "execution_count": 5,
   "id": "03f15585",
   "metadata": {},
   "outputs": [],
   "source": [
    "mod, params = relay.frontend.from_onnx(mobilenet_model, shape=shape_dict, dtype=dtype_dict)"
   ]
  },
  {
   "cell_type": "code",
   "execution_count": 6,
   "id": "ba858e1c",
   "metadata": {},
   "outputs": [
    {
     "name": "stdout",
     "output_type": "stream",
     "text": [
      "llvm -keys=cpu -link-params=0\n"
     ]
    }
   ],
   "source": [
    "# target = tvm.target.arm_cpu(\"rasp3b\")\n",
    "target = tvm.target.Target('llvm')\n",
    "#  target = tvm.target.Target(\"llvm -device=arm_cpu -mtriple=aarch64-linux-gnu -mattr=+neon\")\n",
    "# target = tvm.target.intel_graphics()\n",
    "# target = tvm.target.Target(\"opencl -device=intel_graphics\")\n",
    "# target = tvm.target.Target(\"opencl -device=mali\")\n",
    "print(target)"
   ]
  },
  {
   "cell_type": "code",
   "execution_count": 7,
   "id": "167fefc8",
   "metadata": {},
   "outputs": [
    {
     "name": "stdout",
     "output_type": "stream",
     "text": [
      "llvm -keys=cpu -link-params=0\n"
     ]
    }
   ],
   "source": [
    "target_host = tvm.target.Target('llvm')\n",
    "# target_host = \"llvm -mtriple=aarch64-linux-gnu\"\n",
    "print(target_host)"
   ]
  },
  {
   "cell_type": "code",
   "execution_count": 8,
   "id": "b6cce22b",
   "metadata": {},
   "outputs": [
    {
     "name": "stderr",
     "output_type": "stream",
     "text": [
      "One or more operators have not been tuned. Please tune your model for better performance. Use DEBUG logging level to see more details.\n"
     ]
    },
    {
     "name": "stdout",
     "output_type": "stream",
     "text": [
      "<tvm.relay.backend.executor_factory.GraphExecutorFactoryModule object at 0x7f80c80b9080>\n"
     ]
    }
   ],
   "source": [
    "with tvm.transform.PassContext(opt_level=3):\n",
    "# with relay.build_config(opt_level=3):    \n",
    "    module_lib = relay.build(mod, target=target, target_host=target_host, params=params, mod_name='mobilenet')\n",
    "print(module_lib)"
   ]
  },
  {
   "cell_type": "code",
   "execution_count": 9,
   "id": "2bdf4f3d",
   "metadata": {},
   "outputs": [],
   "source": [
    "# output lib path\n",
    "lib_path = \"../module/x64/mobilenet.so\""
   ]
  },
  {
   "cell_type": "code",
   "execution_count": 10,
   "id": "210fdc09",
   "metadata": {},
   "outputs": [],
   "source": [
    "# export params path\n",
    "param_path = \"../module/x64/mobilenet.params\""
   ]
  },
  {
   "cell_type": "code",
   "execution_count": 11,
   "id": "f9d8fc0e",
   "metadata": {},
   "outputs": [],
   "source": [
    "module_lib.export_library(lib_path)\n",
    "# cc=\"/usr/bin/aarch64-linux-gnu-g++\"\n",
    "# cc=\"/usr/bin/arm-linux-gnueabihf-g++\n",
    "# tvm.contrib.cc.cross_compiler(\"aarch64-linux-gnu-g++\")"
   ]
  },
  {
   "cell_type": "code",
   "execution_count": 12,
   "id": "3d2f85ca",
   "metadata": {},
   "outputs": [],
   "source": [
    "with open(param_path, 'wb') as fo:\n",
    "    fo.write(relay.save_param_dict(params))"
   ]
  }
 ],
 "metadata": {
  "kernelspec": {
   "display_name": "Python 3",
   "language": "python",
   "name": "python3"
  },
  "language_info": {
   "codemirror_mode": {
    "name": "ipython",
    "version": 3
   },
   "file_extension": ".py",
   "mimetype": "text/x-python",
   "name": "python",
   "nbconvert_exporter": "python",
   "pygments_lexer": "ipython3",
   "version": "3.6.9"
  }
 },
 "nbformat": 4,
 "nbformat_minor": 5
}

{
 "cells": [
  {
   "cell_type": "markdown",
   "id": "4416f0c7",
   "metadata": {},
   "source": [
    "# 1. mnist module load test"
   ]
  },
  {
   "cell_type": "code",
   "execution_count": 2,
   "id": "4e5227fd",
   "metadata": {},
   "outputs": [],
   "source": [
    "import os\n",
    "import glob\n",
    "import numpy as np\n",
    "import tvm\n",
    "import onnx\n",
    "from onnx import numpy_helper"
   ]
  },
  {
   "cell_type": "markdown",
   "id": "369d4f61",
   "metadata": {},
   "source": [
    "- set the path"
   ]
  },
  {
   "cell_type": "code",
   "execution_count": 3,
   "id": "c076dda3",
   "metadata": {},
   "outputs": [],
   "source": [
    "test_data_dir = '../mnist/test_data_set_2'\n",
    "lib_path = \"../lib/mnist.so\"\n",
    "param_path = \"../lib/mnist.params\""
   ]
  },
  {
   "cell_type": "code",
   "execution_count": 4,
   "id": "378d4c9d",
   "metadata": {},
   "outputs": [],
   "source": [
    "inputs = []\n",
    "inputs_num = len(glob.glob(os.path.join(test_data_dir, 'input_*.pb')))"
   ]
  },
  {
   "cell_type": "code",
   "execution_count": 5,
   "id": "dec0312f",
   "metadata": {},
   "outputs": [],
   "source": [
    "for i in range(inputs_num):\n",
    "    input_file = os.path.join(test_data_dir, 'input_{}.pb'.format(i))\n",
    "    tensor = onnx.TensorProto()\n",
    "    with open(input_file, 'rb') as f:\n",
    "        tensor.ParseFromString(f.read())\n",
    "    inputs.append(numpy_helper.to_array(tensor))"
   ]
  },
  {
   "cell_type": "code",
   "execution_count": 6,
   "id": "da128dd1",
   "metadata": {},
   "outputs": [
    {
     "name": "stdout",
     "output_type": "stream",
     "text": [
      "Module(GraphExecutorFactory, 299ee98)\n"
     ]
    }
   ],
   "source": [
    "loaded_lib: tvm.runtime.Module = tvm.runtime.load_module(lib_path)\n",
    "print(loaded_lib)"
   ]
  },
  {
   "cell_type": "code",
   "execution_count": 7,
   "id": "cd185e5d",
   "metadata": {},
   "outputs": [],
   "source": [
    "#loaded_param = tvm.runtime.load_param_dict(open(param_path, \"rb\").read())\n",
    "loaded_param = bytearray(open(param_path, \"rb\").read())"
   ]
  },
  {
   "cell_type": "code",
   "execution_count": 8,
   "id": "9708c189",
   "metadata": {},
   "outputs": [],
   "source": [
    "ctx = tvm.runtime.opencl()"
   ]
  },
  {
   "cell_type": "code",
   "execution_count": 11,
   "id": "3e6ab948",
   "metadata": {},
   "outputs": [
    {
     "ename": "AttributeError",
     "evalue": "module 'tvm.contrib' has no attribute 'graph_executor'",
     "output_type": "error",
     "traceback": [
      "\u001b[0;31m---------------------------------------------------------------------------\u001b[0m",
      "\u001b[0;31mAttributeError\u001b[0m                            Traceback (most recent call last)",
      "\u001b[0;32m<ipython-input-11-326097a5e906>\u001b[0m in \u001b[0;36m<module>\u001b[0;34m\u001b[0m\n\u001b[0;32m----> 1\u001b[0;31m \u001b[0mmodule\u001b[0m \u001b[0;34m=\u001b[0m \u001b[0mtvm\u001b[0m\u001b[0;34m.\u001b[0m\u001b[0mcontrib\u001b[0m\u001b[0;34m.\u001b[0m\u001b[0mgraph_executor\u001b[0m\u001b[0;34m.\u001b[0m\u001b[0mGraphModule\u001b[0m\u001b[0;34m(\u001b[0m\u001b[0mloaded_lib\u001b[0m\u001b[0;34m[\u001b[0m\u001b[0;34m\"mnist\"\u001b[0m\u001b[0;34m]\u001b[0m\u001b[0;34m(\u001b[0m\u001b[0mctx\u001b[0m\u001b[0;34m)\u001b[0m\u001b[0;34m)\u001b[0m\u001b[0;34m\u001b[0m\u001b[0;34m\u001b[0m\u001b[0m\n\u001b[0m",
      "\u001b[0;31mAttributeError\u001b[0m: module 'tvm.contrib' has no attribute 'graph_executor'"
     ]
    }
   ],
   "source": [
    "module = tvm.contrib.graph_executor.GraphModule(loaded_lib[\"mnist\"](ctx))"
   ]
  },
  {
   "cell_type": "code",
   "execution_count": null,
   "id": "e5eab6cb",
   "metadata": {},
   "outputs": [],
   "source": [
    "module.load_params(loaded_param)"
   ]
  },
  {
   "cell_type": "code",
   "execution_count": null,
   "id": "a9452e1a",
   "metadata": {},
   "outputs": [],
   "source": [
    "module.set_input(\"Input3\", inputs[0])"
   ]
  },
  {
   "cell_type": "code",
   "execution_count": null,
   "id": "ec10bbe9",
   "metadata": {},
   "outputs": [],
   "source": [
    "module.run()"
   ]
  },
  {
   "cell_type": "code",
   "execution_count": null,
   "id": "dbe0c618",
   "metadata": {},
   "outputs": [],
   "source": [
    "out_deploy = module.get_output(0).asnumpy()"
   ]
  },
  {
   "cell_type": "code",
   "execution_count": null,
   "id": "b6f77f52",
   "metadata": {},
   "outputs": [],
   "source": [
    "print(out_deploy)"
   ]
  }
 ],
 "metadata": {
  "kernelspec": {
   "display_name": "Python 3",
   "language": "python",
   "name": "python3"
  },
  "language_info": {
   "codemirror_mode": {
    "name": "ipython",
    "version": 3
   },
   "file_extension": ".py",
   "mimetype": "text/x-python",
   "name": "python",
   "nbconvert_exporter": "python",
   "pygments_lexer": "ipython3",
   "version": "3.6.9"
  }
 },
 "nbformat": 4,
 "nbformat_minor": 5
}
